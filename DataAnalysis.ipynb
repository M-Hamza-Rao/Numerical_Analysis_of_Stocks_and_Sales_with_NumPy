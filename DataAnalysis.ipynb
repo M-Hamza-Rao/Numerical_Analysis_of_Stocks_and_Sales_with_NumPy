{
 "cells": [
  {
   "cell_type": "code",
   "execution_count": 112,
   "id": "093fb224",
   "metadata": {},
   "outputs": [],
   "source": [
    "import numpy as np\n",
    "def output(instring):\n",
    "    print(instring)"
   ]
  },
  {
   "cell_type": "markdown",
   "id": "6efe738e",
   "metadata": {},
   "source": [
    "### Cleaning and Preparation"
   ]
  },
  {
   "cell_type": "code",
   "execution_count": 78,
   "id": "664d427f",
   "metadata": {},
   "outputs": [],
   "source": [
    "#Preaparation\n",
    "input_file = 'stocks_sales_dataset.csv'\n",
    "output_file = 'cleaned_data.csv'\n",
    "\n",
    "with open(input_file, 'r', encoding='utf-8') as f_in, open(output_file, 'w', encoding='utf-8') as f_out:\n",
    "    #header = next(f_in)\n",
    "    #print(\"Header:\", header.strip())\n",
    "    for line in f_in:\n",
    "        # Split by comma to count columns\n",
    "        columns = line.strip().split(',')\n",
    "        # Check if line has exactly 10 columns\n",
    "        if len(columns) == 10:\n",
    "            f_out.write(line)"
   ]
  },
  {
   "cell_type": "markdown",
   "id": "fa2d91e7",
   "metadata": {},
   "source": [
    "### CSV to NP ARRAY"
   ]
  },
  {
   "cell_type": "code",
   "execution_count": 79,
   "id": "9648067a",
   "metadata": {},
   "outputs": [],
   "source": [
    "#Loading\n",
    "\n",
    "data = np.genfromtxt(\n",
    "    'cleaned_data.csv',           \n",
    "    delimiter=\",\",                \n",
    "    dtype=None,                   \n",
    "    encoding='utf-8',             \n",
    "    names=None,                   \n",
    "    missing_values='',            \n",
    "    filling_values=np.nan, \n",
    "    invalid_raise = False #To ignore rows with inconsistant column count\n",
    ")"
   ]
  },
  {
   "cell_type": "code",
   "execution_count": 80,
   "id": "547324a6",
   "metadata": {},
   "outputs": [
    {
     "name": "stdout",
     "output_type": "stream",
     "text": [
      "(1001, 10)\n",
      "(1000, 10)\n"
     ]
    }
   ],
   "source": [
    "print(data.shape)\n",
    "data = data[1:]\n",
    "print(data.shape)"
   ]
  },
  {
   "cell_type": "code",
   "execution_count": 81,
   "id": "d26da7da",
   "metadata": {},
   "outputs": [
    {
     "data": {
      "text/plain": [
       "numpy.ndarray"
      ]
     },
     "execution_count": 81,
     "metadata": {},
     "output_type": "execute_result"
    }
   ],
   "source": [
    "type(data)"
   ]
  },
  {
   "cell_type": "markdown",
   "id": "1fbee690",
   "metadata": {},
   "source": [
    "### Filling Empty values "
   ]
  },
  {
   "cell_type": "code",
   "execution_count": 85,
   "id": "1a80f008",
   "metadata": {},
   "outputs": [
    {
     "data": {
      "text/plain": [
       "array([['1', 'Stock_1', '2024-03-17', '403.21', '186.7', '143175',\n",
       "        '650540204538.62', '16.64', '0.81', 'Healthcare'],\n",
       "       ['2', 'Stock_2', '2024-02-11', '395.96', '377.7', '201937',\n",
       "        '755740452782.7', '44.14', '2.34', 'Healthcare'],\n",
       "       ['3', 'Stock_3', '2024-09-21', '244.89', '150.91', '493048',\n",
       "        '90325484303.82', '16.04', '4.98', 'Technology'],\n",
       "       ['4', 'Stock_4', '2024-10-12', '197.23', '342.65', '723463',\n",
       "        '389317541468.42', '35.6', '2.68', 'Healthcare'],\n",
       "       ['5', 'Stock_5', '2024-02-10', '397.5', '439.9', '856814',\n",
       "        '986642362836.08', '44.91', '1.49', 'Finance']], dtype='<U15')"
      ]
     },
     "execution_count": 85,
     "metadata": {},
     "output_type": "execute_result"
    }
   ],
   "source": [
    "data[0:5,:]"
   ]
  },
  {
   "cell_type": "code",
   "execution_count": 88,
   "id": "476dbad2",
   "metadata": {},
   "outputs": [
    {
     "data": {
      "text/plain": [
       "array(['10', 'Stock_10', '2024-02-02', '397.38', '', '208593',\n",
       "       '652649542521.17', '41.42', '2.35', 'Technology'], dtype='<U15')"
      ]
     },
     "execution_count": 88,
     "metadata": {},
     "output_type": "execute_result"
    }
   ],
   "source": [
    "data[9,:]"
   ]
  },
  {
   "cell_type": "code",
   "execution_count": 96,
   "id": "8b578fce",
   "metadata": {},
   "outputs": [
    {
     "name": "stdout",
     "output_type": "stream",
     "text": [
      "[['1.0' 'Stock_1' '2024-03-17' ... '16.64' '0.81' 'Healthcare']\n",
      " ['2.0' 'Stock_2' '2024-02-11' ... '44.14' '2.34' 'Healthcare']\n",
      " ['3.0' 'Stock_3' '2024-09-21' ... '16.04' '4.98' 'Technology']\n",
      " ...\n",
      " ['998.0' 'Stock_998' '2024-01-15' ... '16.75' '2.39' 'Technology']\n",
      " ['999.0' 'Stock_999' '2024-01-23' ... '31.24' '2.09' 'Consumer Goods']\n",
      " ['1000.0' 'Stock_1000' '2023-12-21' ... '11.34' '0.77' 'Finance']]\n"
     ]
    }
   ],
   "source": [
    "data[data == ''] = np.nan\n",
    "\n",
    "# Check if a column is numeric\n",
    "def is_numeric(column):\n",
    "    try:\n",
    "        column.astype(float)  \n",
    "        return True\n",
    "    except ValueError:\n",
    "        return False\n",
    "\n",
    "for col in range(data.shape[1]):\n",
    "    column = data[:, col]\n",
    "    if is_numeric(column):\n",
    "        # Convert column to float \n",
    "        numeric_col = column.astype(float)\n",
    "        \n",
    "        # Calculate the mean excluding NaNs\n",
    "        mean_value = np.nanmean(numeric_col)\n",
    "        \n",
    "        # Fill NaNs with the column mean\n",
    "        data[:, col] = np.where(np.isnan(numeric_col), mean_value, numeric_col).astype(str)\n",
    "    else:\n",
    "        # Fill non-numeric columns with 'unknown' where values are NaN\n",
    "        data[:, col] = np.where(column == 'nan', 'unknown', column)\n",
    "\n",
    "# Output the processed data\n",
    "print(data)\n"
   ]
  },
  {
   "cell_type": "code",
   "execution_count": 97,
   "id": "25f12697",
   "metadata": {},
   "outputs": [
    {
     "data": {
      "text/plain": [
       "array(['10.0', 'Stock_10', '2024-02-02', '397.38', '299.34062124248',\n",
       "       '208593.0', '652649542521.17', '41.42', '2.35', 'Technology'],\n",
       "      dtype='<U15')"
      ]
     },
     "execution_count": 97,
     "metadata": {},
     "output_type": "execute_result"
    }
   ],
   "source": [
    "data[9,:]"
   ]
  },
  {
   "cell_type": "markdown",
   "id": "7ef13839",
   "metadata": {},
   "source": [
    "###  Mean, standard deviation, min, and max for opening prices by sector "
   ]
  },
  {
   "cell_type": "code",
   "execution_count": 104,
   "id": "4e71e55e",
   "metadata": {},
   "outputs": [],
   "source": [
    "sector_Wise_Calculation_openning = np.empty((0, 2), dtype=object)  # Empty array\n",
    "\n",
    "for i in range(1, len(data[:, 9])):\n",
    "    if data[i, 9] in sector_Wise_Calculation_openning[:, 0]:\n",
    "        row_index = np.where(sector_Wise_Calculation_openning[:, 0] == data[i, 9])[0][0]\n",
    "        sector_Wise_Calculation_openning[row_index, 1] = np.append(sector_Wise_Calculation_openning[row_index, 1], np.array([data[i, 3]]))\n",
    "    else:\n",
    "        sector_Wise_Calculation_openning = np.append(sector_Wise_Calculation_openning, [[data[i, 9], np.array([data[i, 3]], dtype=object)]], axis=0)\n",
    "        \n"
   ]
  },
  {
   "cell_type": "code",
   "execution_count": 116,
   "id": "d76df031",
   "metadata": {},
   "outputs": [
    {
     "name": "stdout",
     "output_type": "stream",
     "text": [
      "OPENNING PRICES\n",
      "Sector: Healthcare\n",
      "Mean: 289.93319371727745\n",
      "std: 116.87800724135899\n",
      "Min: 100.42\n",
      "Max: 496.04\n",
      "Sector: Technology\n",
      "Mean: 303.34781094527364\n",
      "std: 112.79153665712998\n",
      "Min: 100.66\n",
      "Max: 499.51\n",
      "Sector: Finance\n",
      "Mean: 297.81723756906075\n",
      "std: 114.89150096756035\n",
      "Min: 103.71\n",
      "Max: 499.56\n",
      "Sector: Consumer Goods\n",
      "Mean: 300.71990074980636\n",
      "std: 120.84474310542984\n",
      "Min: 100.35\n",
      "Max: 499.3\n",
      "Sector: Energy\n",
      "Mean: 293.9628971962617\n",
      "std: 114.6564033451898\n",
      "Min: 100.45\n",
      "Max: 499.63\n"
     ]
    }
   ],
   "source": [
    "output(\"OPENNING PRICES\")\n",
    "for j in range(0,len(sector_Wise_Calculation_openning[0:,0])):\n",
    "    print(\"Sector:\",sector_Wise_Calculation_openning[j,0])\n",
    "    print(\"Mean:\",np.nanmean(sector_Wise_Calculation_openning[j, 1].astype(float)))\n",
    "    print(\"std:\",np.std(sector_Wise_Calculation_openning[j, 1].astype(float)))\n",
    "    print(\"Min:\",np.min(sector_Wise_Calculation_openning[j, 1].astype(float)))\n",
    "    print(\"Max:\",np.max(sector_Wise_Calculation_openning[j, 1].astype(float)))\n"
   ]
  },
  {
   "cell_type": "markdown",
   "id": "2aeadd56",
   "metadata": {},
   "source": [
    "###  Mean, standard deviation, min, and max for Closing prices by sector "
   ]
  },
  {
   "cell_type": "code",
   "execution_count": 106,
   "id": "486574f1",
   "metadata": {},
   "outputs": [],
   "source": [
    "sector_Wise_Calculation_closing = np.empty((0, 2), dtype=object)  # Empty array\n",
    "\n",
    "for i in range(1, len(data[:, 9])):\n",
    "    if data[i, 9] in sector_Wise_Calculation_closing[:, 0]:\n",
    "        row_index = np.where(sector_Wise_Calculation_closing[:, 0] == data[i, 9])[0][0]\n",
    "        sector_Wise_Calculation_closing[row_index, 1] = np.append(sector_Wise_Calculation_closing[row_index, 1], np.array([data[i, 4]]))\n",
    "    else:\n",
    "        sector_Wise_Calculation_closing = np.append(sector_Wise_Calculation_closing, [[data[i, 9], np.array([data[i, 4]], dtype=object)]], axis=0)\n",
    "        \n"
   ]
  },
  {
   "cell_type": "code",
   "execution_count": 113,
   "id": "164bd093",
   "metadata": {},
   "outputs": [
    {
     "name": "stdout",
     "output_type": "stream",
     "text": [
      "CLOSING PRICES\n",
      "Sector: Healthcare\n",
      "Mean: 305.68335078534034\n",
      "std: 109.5139352641685\n",
      "Min: 113.41\n",
      "Max: 498.86\n",
      "Sector: Technology\n",
      "Mean: 290.5304539427113\n",
      "std: 113.6927360196837\n",
      "Min: 100.98\n",
      "Max: 488.35\n",
      "Sector: Finance\n",
      "Mean: 298.44082872928175\n",
      "std: 115.07589199829263\n",
      "Min: 109.2\n",
      "Max: 494.89\n",
      "Sector: Consumer Goods\n",
      "Mean: 305.13754716981134\n",
      "std: 115.12264778750645\n",
      "Min: 100.43\n",
      "Max: 492.5\n",
      "Sector: Energy\n",
      "Mean: 297.49920560747665\n",
      "std: 115.552031953667\n",
      "Min: 105.11\n",
      "Max: 498.9\n"
     ]
    }
   ],
   "source": [
    "output(\"CLOSING PRICES\")\n",
    "for j in range(0,len(sector_Wise_Calculation_closing[0:,0])):\n",
    "    print(\"Sector:\",sector_Wise_Calculation_closing[j,0])\n",
    "    print(\"Mean:\",np.nanmean(sector_Wise_Calculation_closing[j, 1].astype(float)))\n",
    "    print(\"std:\",np.std(sector_Wise_Calculation_closing[j, 1].astype(float)))\n",
    "    print(\"Min:\",np.min(sector_Wise_Calculation_closing[j, 1].astype(float)))\n",
    "    print(\"Max:\",np.max(sector_Wise_Calculation_closing[j, 1].astype(float)))\n"
   ]
  },
  {
   "cell_type": "code",
   "execution_count": 120,
   "id": "6d7833a6",
   "metadata": {},
   "outputs": [
    {
     "name": "stdout",
     "output_type": "stream",
     "text": [
      "COMPARISION PRICES\n",
      "Sector: Healthcare\n",
      "Openning Price Mean: 289.93319371727745\n",
      "Closing Price Mean: 305.68335078534034\n",
      "\n",
      "Sector: Technology\n",
      "Openning Price Mean: 303.34781094527364\n",
      "Closing Price Mean: 290.5304539427113\n",
      "\n",
      "Sector: Finance\n",
      "Openning Price Mean: 297.81723756906075\n",
      "Closing Price Mean: 298.44082872928175\n",
      "\n",
      "Sector: Consumer Goods\n",
      "Openning Price Mean: 300.71990074980636\n",
      "Closing Price Mean: 305.13754716981134\n",
      "\n",
      "Sector: Energy\n",
      "Openning Price Mean: 293.9628971962617\n",
      "Closing Price Mean: 297.49920560747665\n",
      "\n"
     ]
    }
   ],
   "source": [
    "output(\"COMPARISION PRICES\")\n",
    "for k in range(0,len(sector_Wise_Calculation_closing[0:,0])):\n",
    "    print(\"Sector:\",sector_Wise_Calculation_closing[k,0])\n",
    "    print(\"Openning Price Mean:\",np.nanmean(sector_Wise_Calculation_openning[k, 1].astype(float)))\n",
    "    print(\"Closing Price Mean:\",np.nanmean(sector_Wise_Calculation_closing[k, 1].astype(float)))\n",
    "    print(\"\")"
   ]
  },
  {
   "cell_type": "markdown",
   "id": "9a1bdf92",
   "metadata": {},
   "source": [
    "### Correlation Analysis of Opening and Closing Prices"
   ]
  },
  {
   "cell_type": "code",
   "execution_count": 124,
   "id": "e31175ed",
   "metadata": {},
   "outputs": [],
   "source": [
    "def classify_correlation(correlation):\n",
    "    \"\"\"\n",
    "    Classifies the correlation based on the Pearson correlation coefficient value.\n",
    "\n",
    "    Parameters:\n",
    "    correlation (float): The Pearson correlation coefficient between two variables.\n",
    "\n",
    "    Returns:\n",
    "    str: A string that classifies the correlation as very weak, weak, strong, etc.\n",
    "    \"\"\"\n",
    "\n",
    "    if correlation > 0.9:\n",
    "        return \"Very Strong Positive Correlation\"\n",
    "    elif correlation > 0.7:\n",
    "        return \"Strong Positive Correlation\"\n",
    "    elif correlation > 0.4:\n",
    "        return \"Moderate Positive Correlation\"\n",
    "    elif correlation > 0.1:\n",
    "        return \"Weak Positive Correlation\"\n",
    "    elif correlation > -0.1:\n",
    "        # Very weak correlation, distinguishing positive or negative\n",
    "        if correlation > 0:\n",
    "            return \"Very Weak Positive Correlation\"\n",
    "        else:\n",
    "            return \"Very Weak Negative Correlation\"\n",
    "    elif correlation > -0.4:\n",
    "        return \"Weak Negative Correlation\"\n",
    "    elif correlation > -0.7:\n",
    "        return \"Moderate Negative Correlation\"\n",
    "    elif correlation > -0.9:\n",
    "        return \"Strong Negative Correlation\"\n",
    "    else:\n",
    "        return \"Very Strong Negative Correlation\""
   ]
  },
  {
   "cell_type": "code",
   "execution_count": 127,
   "id": "516dc4a8",
   "metadata": {},
   "outputs": [
    {
     "name": "stdout",
     "output_type": "stream",
     "text": [
      "Pearson correlation between opening and closing prices: -0.03121887661554187\n",
      "-> Very Weak Negative Correlation\n"
     ]
    }
   ],
   "source": [
    "opening_prices = data[:, 3].astype(float)\n",
    "closing_prices = data[:, 4].astype(float)\n",
    "\n",
    "# Calculate the Pearson correlation coefficient between opening and closing prices\n",
    "correlation_matrix = np.corrcoef(opening_prices, closing_prices)\n",
    "\n",
    "correlation = correlation_matrix[0, 1]\n",
    "\n",
    "# Print the result\n",
    "print(f\"Pearson correlation between opening and closing prices: {correlation}\")\n",
    "print(\"->\",classify_correlation(correlation))"
   ]
  },
  {
   "cell_type": "markdown",
   "id": "bac9ced8",
   "metadata": {},
   "source": [
    "### Sector Analysis of Market Capitalization"
   ]
  },
  {
   "cell_type": "code",
   "execution_count": null,
   "id": "38b1f012",
   "metadata": {},
   "outputs": [],
   "source": [
    "sectors = data[:, 9]\n",
    "market_caps = data[:, 6].astype(float)\n",
    "unique_sectors = np.unique(sectors)\n",
    "\n",
    "sector_avg_market_cap = {}\n",
    "\n",
    "for sector in unique_sectors:\n",
    "    # Find indices where the sector matches\n",
    "    sector_indices = np.where(sectors == sector)[0]\n",
    "    \n",
    "    # Extract the market capitalizations for the matching sector\n",
    "    sector_market_caps = market_caps[sector_indices]\n",
    "    \n",
    "    # Calculate the mean of market caps for this sector\n",
    "    sector_avg_market_cap[sector] = np.mean(sector_market_caps)\n",
    "\n",
    "# Print the results\n",
    "for sector, avg_market_cap in sector_avg_market_cap.items():\n",
    "    print(f\"Sector: {sector} | Average Market Cap: {avg_market_cap:.2f}\")"
   ]
  }
 ],
 "metadata": {
  "kernelspec": {
   "display_name": "Python 3 (ipykernel)",
   "language": "python",
   "name": "python3"
  },
  "language_info": {
   "codemirror_mode": {
    "name": "ipython",
    "version": 3
   },
   "file_extension": ".py",
   "mimetype": "text/x-python",
   "name": "python",
   "nbconvert_exporter": "python",
   "pygments_lexer": "ipython3",
   "version": "3.7.0"
  }
 },
 "nbformat": 4,
 "nbformat_minor": 5
}
