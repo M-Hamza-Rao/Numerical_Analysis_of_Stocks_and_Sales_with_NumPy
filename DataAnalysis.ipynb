{
 "cells": [
  {
   "cell_type": "code",
   "execution_count": 112,
   "id": "093fb224",
   "metadata": {},
   "outputs": [],
   "source": [
    "import numpy as np\n",
    "def output(instring):\n",
    "    print(instring)"
   ]
  },
  {
   "cell_type": "markdown",
   "id": "6efe738e",
   "metadata": {},
   "source": [
    "### Cleaning and Preparation"
   ]
  },
  {
   "cell_type": "code",
   "execution_count": 78,
   "id": "664d427f",
   "metadata": {},
   "outputs": [],
   "source": [
    "#Preaparation\n",
    "input_file = 'stocks_sales_dataset.csv'\n",
    "output_file = 'cleaned_data.csv'\n",
    "\n",
    "with open(input_file, 'r', encoding='utf-8') as f_in, open(output_file, 'w', encoding='utf-8') as f_out:\n",
    "    #header = next(f_in)\n",
    "    #print(\"Header:\", header.strip())\n",
    "    for line in f_in:\n",
    "        # Split by comma to count columns\n",
    "        columns = line.strip().split(',')\n",
    "        # Check if line has exactly 10 columns\n",
    "        if len(columns) == 10:\n",
    "            f_out.write(line)"
   ]
  },
  {
   "cell_type": "markdown",
   "id": "fa2d91e7",
   "metadata": {},
   "source": [
    "### CSV to NP ARRAY"
   ]
  },
  {
   "cell_type": "code",
   "execution_count": 79,
   "id": "9648067a",
   "metadata": {},
   "outputs": [],
   "source": [
    "#Loading\n",
    "\n",
    "data = np.genfromtxt(\n",
    "    'cleaned_data.csv',           \n",
    "    delimiter=\",\",                \n",
    "    dtype=None,                   \n",
    "    encoding='utf-8',             \n",
    "    names=None,                   \n",
    "    missing_values='',            \n",
    "    filling_values=np.nan, \n",
    "    invalid_raise = False #To ignore rows with inconsistant column count\n",
    ")"
   ]
  },
  {
   "cell_type": "code",
   "execution_count": 80,
   "id": "547324a6",
   "metadata": {},
   "outputs": [
    {
     "name": "stdout",
     "output_type": "stream",
     "text": [
      "(1001, 10)\n",
      "(1000, 10)\n"
     ]
    }
   ],
   "source": [
    "print(data.shape)\n",
    "data = data[1:]\n",
    "print(data.shape)"
   ]
  },
  {
   "cell_type": "code",
   "execution_count": 81,
   "id": "d26da7da",
   "metadata": {},
   "outputs": [
    {
     "data": {
      "text/plain": [
       "numpy.ndarray"
      ]
     },
     "execution_count": 81,
     "metadata": {},
     "output_type": "execute_result"
    }
   ],
   "source": [
    "type(data)"
   ]
  },
  {
   "cell_type": "markdown",
   "id": "1fbee690",
   "metadata": {},
   "source": [
    "### Filling Empty values "
   ]
  },
  {
   "cell_type": "code",
   "execution_count": 85,
   "id": "1a80f008",
   "metadata": {},
   "outputs": [
    {
     "data": {
      "text/plain": [
       "array([['1', 'Stock_1', '2024-03-17', '403.21', '186.7', '143175',\n",
       "        '650540204538.62', '16.64', '0.81', 'Healthcare'],\n",
       "       ['2', 'Stock_2', '2024-02-11', '395.96', '377.7', '201937',\n",
       "        '755740452782.7', '44.14', '2.34', 'Healthcare'],\n",
       "       ['3', 'Stock_3', '2024-09-21', '244.89', '150.91', '493048',\n",
       "        '90325484303.82', '16.04', '4.98', 'Technology'],\n",
       "       ['4', 'Stock_4', '2024-10-12', '197.23', '342.65', '723463',\n",
       "        '389317541468.42', '35.6', '2.68', 'Healthcare'],\n",
       "       ['5', 'Stock_5', '2024-02-10', '397.5', '439.9', '856814',\n",
       "        '986642362836.08', '44.91', '1.49', 'Finance']], dtype='<U15')"
      ]
     },
     "execution_count": 85,
     "metadata": {},
     "output_type": "execute_result"
    }
   ],
   "source": [
    "data[0:5,:]"
   ]
  },
  {
   "cell_type": "code",
   "execution_count": 88,
   "id": "476dbad2",
   "metadata": {},
   "outputs": [
    {
     "data": {
      "text/plain": [
       "array(['10', 'Stock_10', '2024-02-02', '397.38', '', '208593',\n",
       "       '652649542521.17', '41.42', '2.35', 'Technology'], dtype='<U15')"
      ]
     },
     "execution_count": 88,
     "metadata": {},
     "output_type": "execute_result"
    }
   ],
   "source": [
    "data[9,:]"
   ]
  },
  {
   "cell_type": "code",
   "execution_count": 96,
   "id": "8b578fce",
   "metadata": {},
   "outputs": [
    {
     "name": "stdout",
     "output_type": "stream",
     "text": [
      "[['1.0' 'Stock_1' '2024-03-17' ... '16.64' '0.81' 'Healthcare']\n",
      " ['2.0' 'Stock_2' '2024-02-11' ... '44.14' '2.34' 'Healthcare']\n",
      " ['3.0' 'Stock_3' '2024-09-21' ... '16.04' '4.98' 'Technology']\n",
      " ...\n",
      " ['998.0' 'Stock_998' '2024-01-15' ... '16.75' '2.39' 'Technology']\n",
      " ['999.0' 'Stock_999' '2024-01-23' ... '31.24' '2.09' 'Consumer Goods']\n",
      " ['1000.0' 'Stock_1000' '2023-12-21' ... '11.34' '0.77' 'Finance']]\n"
     ]
    }
   ],
   "source": [
    "data[data == ''] = np.nan\n",
    "\n",
    "# Check if a column is numeric\n",
    "def is_numeric(column):\n",
    "    try:\n",
    "        column.astype(float)  \n",
    "        return True\n",
    "    except ValueError:\n",
    "        return False\n",
    "\n",
    "for col in range(data.shape[1]):\n",
    "    column = data[:, col]\n",
    "    if is_numeric(column):\n",
    "        # Convert column to float \n",
    "        numeric_col = column.astype(float)\n",
    "        \n",
    "        # Calculate the mean excluding NaNs\n",
    "        mean_value = np.nanmean(numeric_col)\n",
    "        \n",
    "        # Fill NaNs with the column mean\n",
    "        data[:, col] = np.where(np.isnan(numeric_col), mean_value, numeric_col).astype(str)\n",
    "    else:\n",
    "        # Fill non-numeric columns with 'unknown' where values are NaN\n",
    "        data[:, col] = np.where(column == 'nan', 'unknown', column)\n",
    "\n",
    "# Output the processed data\n",
    "print(data)\n"
   ]
  },
  {
   "cell_type": "code",
   "execution_count": 97,
   "id": "25f12697",
   "metadata": {},
   "outputs": [
    {
     "data": {
      "text/plain": [
       "array(['10.0', 'Stock_10', '2024-02-02', '397.38', '299.34062124248',\n",
       "       '208593.0', '652649542521.17', '41.42', '2.35', 'Technology'],\n",
       "      dtype='<U15')"
      ]
     },
     "execution_count": 97,
     "metadata": {},
     "output_type": "execute_result"
    }
   ],
   "source": [
    "data[9,:]"
   ]
  },
  {
   "cell_type": "markdown",
   "id": "7ef13839",
   "metadata": {},
   "source": [
    "###  Mean, standard deviation, min, and max for opening prices by sector "
   ]
  },
  {
   "cell_type": "code",
   "execution_count": 104,
   "id": "4e71e55e",
   "metadata": {},
   "outputs": [],
   "source": [
    "sector_Wise_Calculation_openning = np.empty((0, 2), dtype=object)  # Empty array\n",
    "\n",
    "for i in range(1, len(data[:, 9])):\n",
    "    if data[i, 9] in sector_Wise_Calculation_openning[:, 0]:\n",
    "        row_index = np.where(sector_Wise_Calculation_openning[:, 0] == data[i, 9])[0][0]\n",
    "        sector_Wise_Calculation_openning[row_index, 1] = np.append(sector_Wise_Calculation_openning[row_index, 1], np.array([data[i, 3]]))\n",
    "    else:\n",
    "        sector_Wise_Calculation_openning = np.append(sector_Wise_Calculation_openning, [[data[i, 9], np.array([data[i, 3]], dtype=object)]], axis=0)\n",
    "        \n"
   ]
  },
  {
   "cell_type": "code",
   "execution_count": 116,
   "id": "d76df031",
   "metadata": {},
   "outputs": [
    {
     "name": "stdout",
     "output_type": "stream",
     "text": [
      "OPENNING PRICES\n",
      "Sector: Healthcare\n",
      "Mean: 289.93319371727745\n",
      "std: 116.87800724135899\n",
      "Min: 100.42\n",
      "Max: 496.04\n",
      "Sector: Technology\n",
      "Mean: 303.34781094527364\n",
      "std: 112.79153665712998\n",
      "Min: 100.66\n",
      "Max: 499.51\n",
      "Sector: Finance\n",
      "Mean: 297.81723756906075\n",
      "std: 114.89150096756035\n",
      "Min: 103.71\n",
      "Max: 499.56\n",
      "Sector: Consumer Goods\n",
      "Mean: 300.71990074980636\n",
      "std: 120.84474310542984\n",
      "Min: 100.35\n",
      "Max: 499.3\n",
      "Sector: Energy\n",
      "Mean: 293.9628971962617\n",
      "std: 114.6564033451898\n",
      "Min: 100.45\n",
      "Max: 499.63\n"
     ]
    }
   ],
   "source": [
    "output(\"OPENNING PRICES\")\n",
    "for j in range(0,len(sector_Wise_Calculation_openning[0:,0])):\n",
    "    print(\"Sector:\",sector_Wise_Calculation_openning[j,0])\n",
    "    print(\"Mean:\",np.nanmean(sector_Wise_Calculation_openning[j, 1].astype(float)))\n",
    "    print(\"std:\",np.std(sector_Wise_Calculation_openning[j, 1].astype(float)))\n",
    "    print(\"Min:\",np.min(sector_Wise_Calculation_openning[j, 1].astype(float)))\n",
    "    print(\"Max:\",np.max(sector_Wise_Calculation_openning[j, 1].astype(float)))\n"
   ]
  },
  {
   "cell_type": "markdown",
   "id": "2aeadd56",
   "metadata": {},
   "source": [
    "###  Mean, standard deviation, min, and max for Closing prices by sector "
   ]
  },
  {
   "cell_type": "code",
   "execution_count": 106,
   "id": "486574f1",
   "metadata": {},
   "outputs": [],
   "source": [
    "sector_Wise_Calculation_closing = np.empty((0, 2), dtype=object)  # Empty array\n",
    "\n",
    "for i in range(1, len(data[:, 9])):\n",
    "    if data[i, 9] in sector_Wise_Calculation_closing[:, 0]:\n",
    "        row_index = np.where(sector_Wise_Calculation_closing[:, 0] == data[i, 9])[0][0]\n",
    "        sector_Wise_Calculation_closing[row_index, 1] = np.append(sector_Wise_Calculation_closing[row_index, 1], np.array([data[i, 4]]))\n",
    "    else:\n",
    "        sector_Wise_Calculation_closing = np.append(sector_Wise_Calculation_closing, [[data[i, 9], np.array([data[i, 4]], dtype=object)]], axis=0)\n",
    "        \n"
   ]
  },
  {
   "cell_type": "code",
   "execution_count": 113,
   "id": "164bd093",
   "metadata": {},
   "outputs": [
    {
     "name": "stdout",
     "output_type": "stream",
     "text": [
      "CLOSING PRICES\n",
      "Sector: Healthcare\n",
      "Mean: 305.68335078534034\n",
      "std: 109.5139352641685\n",
      "Min: 113.41\n",
      "Max: 498.86\n",
      "Sector: Technology\n",
      "Mean: 290.5304539427113\n",
      "std: 113.6927360196837\n",
      "Min: 100.98\n",
      "Max: 488.35\n",
      "Sector: Finance\n",
      "Mean: 298.44082872928175\n",
      "std: 115.07589199829263\n",
      "Min: 109.2\n",
      "Max: 494.89\n",
      "Sector: Consumer Goods\n",
      "Mean: 305.13754716981134\n",
      "std: 115.12264778750645\n",
      "Min: 100.43\n",
      "Max: 492.5\n",
      "Sector: Energy\n",
      "Mean: 297.49920560747665\n",
      "std: 115.552031953667\n",
      "Min: 105.11\n",
      "Max: 498.9\n"
     ]
    }
   ],
   "source": [
    "output(\"CLOSING PRICES\")\n",
    "for j in range(0,len(sector_Wise_Calculation_closing[0:,0])):\n",
    "    print(\"Sector:\",sector_Wise_Calculation_closing[j,0])\n",
    "    print(\"Mean:\",np.nanmean(sector_Wise_Calculation_closing[j, 1].astype(float)))\n",
    "    print(\"std:\",np.std(sector_Wise_Calculation_closing[j, 1].astype(float)))\n",
    "    print(\"Min:\",np.min(sector_Wise_Calculation_closing[j, 1].astype(float)))\n",
    "    print(\"Max:\",np.max(sector_Wise_Calculation_closing[j, 1].astype(float)))\n"
   ]
  },
  {
   "cell_type": "code",
   "execution_count": 120,
   "id": "6d7833a6",
   "metadata": {},
   "outputs": [
    {
     "name": "stdout",
     "output_type": "stream",
     "text": [
      "COMPARISION PRICES\n",
      "Sector: Healthcare\n",
      "Openning Price Mean: 289.93319371727745\n",
      "Closing Price Mean: 305.68335078534034\n",
      "\n",
      "Sector: Technology\n",
      "Openning Price Mean: 303.34781094527364\n",
      "Closing Price Mean: 290.5304539427113\n",
      "\n",
      "Sector: Finance\n",
      "Openning Price Mean: 297.81723756906075\n",
      "Closing Price Mean: 298.44082872928175\n",
      "\n",
      "Sector: Consumer Goods\n",
      "Openning Price Mean: 300.71990074980636\n",
      "Closing Price Mean: 305.13754716981134\n",
      "\n",
      "Sector: Energy\n",
      "Openning Price Mean: 293.9628971962617\n",
      "Closing Price Mean: 297.49920560747665\n",
      "\n"
     ]
    }
   ],
   "source": [
    "output(\"COMPARISION PRICES\")\n",
    "for k in range(0,len(sector_Wise_Calculation_closing[0:,0])):\n",
    "    print(\"Sector:\",sector_Wise_Calculation_closing[k,0])\n",
    "    print(\"Openning Price Mean:\",np.nanmean(sector_Wise_Calculation_openning[k, 1].astype(float)))\n",
    "    print(\"Closing Price Mean:\",np.nanmean(sector_Wise_Calculation_closing[k, 1].astype(float)))\n",
    "    print(\"\")"
   ]
  },
  {
   "cell_type": "markdown",
   "id": "9a1bdf92",
   "metadata": {},
   "source": [
    "### Correlation Analysis of Opening and Closing Prices"
   ]
  },
  {
   "cell_type": "code",
   "execution_count": 124,
   "id": "e31175ed",
   "metadata": {},
   "outputs": [],
   "source": [
    "def classify_correlation(correlation):\n",
    "    \"\"\"\n",
    "    Classifies the correlation based on the Pearson correlation coefficient value.\n",
    "\n",
    "    Parameters:\n",
    "    correlation (float): The Pearson correlation coefficient between two variables.\n",
    "\n",
    "    Returns:\n",
    "    str: A string that classifies the correlation as very weak, weak, strong, etc.\n",
    "    \"\"\"\n",
    "\n",
    "    if correlation > 0.9:\n",
    "        return \"Very Strong Positive Correlation\"\n",
    "    elif correlation > 0.7:\n",
    "        return \"Strong Positive Correlation\"\n",
    "    elif correlation > 0.4:\n",
    "        return \"Moderate Positive Correlation\"\n",
    "    elif correlation > 0.1:\n",
    "        return \"Weak Positive Correlation\"\n",
    "    elif correlation > -0.1:\n",
    "        # Very weak correlation, distinguishing positive or negative\n",
    "        if correlation > 0:\n",
    "            return \"Very Weak Positive Correlation\"\n",
    "        else:\n",
    "            return \"Very Weak Negative Correlation\"\n",
    "    elif correlation > -0.4:\n",
    "        return \"Weak Negative Correlation\"\n",
    "    elif correlation > -0.7:\n",
    "        return \"Moderate Negative Correlation\"\n",
    "    elif correlation > -0.9:\n",
    "        return \"Strong Negative Correlation\"\n",
    "    else:\n",
    "        return \"Very Strong Negative Correlation\""
   ]
  },
  {
   "cell_type": "code",
   "execution_count": 127,
   "id": "516dc4a8",
   "metadata": {},
   "outputs": [
    {
     "name": "stdout",
     "output_type": "stream",
     "text": [
      "Pearson correlation between opening and closing prices: -0.03121887661554187\n",
      "-> Very Weak Negative Correlation\n"
     ]
    }
   ],
   "source": [
    "opening_prices = data[:, 3].astype(float)\n",
    "closing_prices = data[:, 4].astype(float)\n",
    "\n",
    "# Calculate the Pearson correlation coefficient between opening and closing prices\n",
    "correlation_matrix = np.corrcoef(opening_prices, closing_prices)\n",
    "\n",
    "correlation = correlation_matrix[0, 1]\n",
    "\n",
    "# Print the result\n",
    "print(f\"Pearson correlation between opening and closing prices: {correlation}\")\n",
    "print(\"->\",classify_correlation(correlation))"
   ]
  },
  {
   "cell_type": "markdown",
   "id": "bac9ced8",
   "metadata": {},
   "source": [
    "### Sector Analysis of Market Capitalization"
   ]
  },
  {
   "cell_type": "code",
   "execution_count": 130,
   "id": "38b1f012",
   "metadata": {},
   "outputs": [
    {
     "name": "stdout",
     "output_type": "stream",
     "text": [
      "Sector: Consumer Goods | Average Market Cap: 514063390785.71\n",
      "Sector: Energy | Average Market Cap: 483330261269.31\n",
      "Sector: Finance | Average Market Cap: 504898612010.43\n",
      "Sector: Healthcare | Average Market Cap: 516857531092.43\n",
      "Sector: Technology | Average Market Cap: 494729984338.36\n"
     ]
    }
   ],
   "source": [
    "sectors = data[:, 9]\n",
    "market_caps = data[:, 6].astype(float)\n",
    "unique_sectors = np.unique(sectors)\n",
    "\n",
    "sector_avg_market_cap = {}\n",
    "\n",
    "for sector in unique_sectors:\n",
    "    # Find indices where the sector matches\n",
    "    sector_indices = np.where(sectors == sector)[0]\n",
    "    \n",
    "    # Extract the market capitalizations for the matching sector\n",
    "    sector_market_caps = market_caps[sector_indices]\n",
    "    \n",
    "    # Calculate the mean of market caps for this sector\n",
    "    sector_avg_market_cap[sector] = np.mean(sector_market_caps)\n",
    "\n",
    "for sector, avg_market_cap in sector_avg_market_cap.items():\n",
    "    print(f\"Sector: {sector} | Average Market Cap: {avg_market_cap:.2f}\")"
   ]
  },
  {
   "cell_type": "markdown",
   "id": "f801067a",
   "metadata": {},
   "source": [
    "### Identifying Highest and Lowest Stock Prices"
   ]
  },
  {
   "cell_type": "code",
   "execution_count": 140,
   "id": "ca6a0d2f",
   "metadata": {},
   "outputs": [
    {
     "name": "stdout",
     "output_type": "stream",
     "text": [
      "Highest Opening Price: Stock_328 (499.63)\n",
      "Lowest Opening Price: Stock_228 (100.35)\n",
      "Highest Closing Price: Stock_753 (498.9)\n",
      "Lowest Closing Price: Stock_464 (100.43)\n"
     ]
    }
   ],
   "source": [
    "# Identify indices of highest/lowest opening/closing prices and retrieve/display stock details\n",
    "print(f\"Highest Opening Price: {data[np.argmax(data[:, 3].astype(float)),1]} ({data[np.argmax(data[:, 3].astype(float)),3]})\")\n",
    "print(f\"Lowest Opening Price: {data[np.argmin(data[:, 3].astype(float)),1]} ({data[np.argmin(data[:, 3].astype(float)),3]})\")\n",
    "print(f\"Highest Closing Price: {data[np.argmax(data[:, 4].astype(float)),1]} ({data[np.argmax(data[:, 4].astype(float)),4]})\")\n",
    "print(f\"Lowest Closing Price: {data[np.argmin(data[:, 4].astype(float)),1]} ({data[np.argmin(data[:, 4].astype(float)),4]})\")"
   ]
  },
  {
   "cell_type": "markdown",
   "id": "bc0bc760",
   "metadata": {},
   "source": [
    "### Outlier Detection in Stock Prices"
   ]
  },
  {
   "cell_type": "code",
   "execution_count": 162,
   "id": "df6c92b2",
   "metadata": {},
   "outputs": [],
   "source": [
    "#Extracting Opening and Closing prices (columns 3 and 4, respectively)\n",
    "opening_prices = data[:, 3].astype(float)\n",
    "closing_prices = data[:, 4].astype(float)"
   ]
  },
  {
   "cell_type": "code",
   "execution_count": 163,
   "id": "188f2c4b",
   "metadata": {},
   "outputs": [],
   "source": [
    "# Function to detect outliers using IQR\n",
    "def detect_outliers(prices):\n",
    "    # Q1 and Q3\n",
    "    Q1 = np.percentile(prices, 25)\n",
    "    Q3 = np.percentile(prices, 75)\n",
    "    \n",
    "    # IQR\n",
    "    IQR = Q3 - Q1\n",
    "    \n",
    "    #display respectively\n",
    "    print(f\"IQR, Q1, Q3: {IQR}, {Q1}, {Q3}\")\n",
    "    \n",
    "    #lower and upper bounds for outliers\n",
    "    lower_bound = Q1 - 1.5 * IQR\n",
    "    upper_bound = Q3 + 1.5 * IQR\n",
    "    \n",
    "    \n",
    "    # Identify outliers\n",
    "    outliers = (prices < lower_bound) | (prices > upper_bound)\n",
    "    \n",
    "    return outliers, lower_bound, upper_bound"
   ]
  },
  {
   "cell_type": "code",
   "execution_count": 164,
   "id": "255a4790",
   "metadata": {},
   "outputs": [
    {
     "name": "stdout",
     "output_type": "stream",
     "text": [
      "IQR, Q1, Q3: 195.52, 198.4125, 393.9325\n",
      "IQR, Q1, Q3: 203.4475, 196.925, 400.3725\n",
      "\n",
      "Openning Upper and Lower Bound: 687.213, -94.868\n",
      "Opening Price Outliers:\n",
      "No Outliers\n",
      "\n",
      "Closing Upper and Lower Bound: 705.544, -108.246\n",
      "Closing Price Outliers:\n",
      "No Outliers\n"
     ]
    }
   ],
   "source": [
    "opening_outliers, opening_lower, opening_upper = detect_outliers(opening_prices)\n",
    "closing_outliers, closing_lower, closing_upper = detect_outliers(closing_prices)\n",
    "\n",
    "# Display the outliers and their corresponding stock information\n",
    "print(f\"\\nOpenning Upper and Lower Bound: {opening_upper:.3f}, {opening_lower:.3f}\")\n",
    "print(\"Opening Price Outliers:\")\n",
    "out1=False\n",
    "for idx, is_outlier in enumerate(opening_outliers):\n",
    "    if is_outlier:\n",
    "        out1=True\n",
    "        print(f\"Outlier: {data[idx, 1]} (Opening Price: {data[idx, 3]})\")\n",
    "if not out1:\n",
    "    print(\"No Outliers\")\n",
    "\n",
    "print(f\"\\nClosing Upper and Lower Bound: {closing_upper:.3f}, {closing_lower:.3f}\")\n",
    "print(\"Closing Price Outliers:\")\n",
    "out2=False\n",
    "for idx, is_outlier in enumerate(closing_outliers):\n",
    "    if is_outlier:\n",
    "        out2=True\n",
    "        print(f\"Outlier: {data[idx, 1]} (Closing Price: {data[idx, 4]})\")\n",
    "if not out2:\n",
    "    print(\"No Outliers\")\n"
   ]
  },
  {
   "cell_type": "markdown",
   "id": "12fedfc4",
   "metadata": {},
   "source": [
    "### Comparing Stock Prices Against a Threshold"
   ]
  },
  {
   "cell_type": "code",
   "execution_count": 173,
   "id": "da2f79a0",
   "metadata": {},
   "outputs": [
    {
     "name": "stdout",
     "output_type": "stream",
     "text": [
      "Enter a Threshold value: 500\n",
      "Proportion of stocks with closing price above 500: 0.00\n"
     ]
    }
   ],
   "source": [
    "threshold = int(input(\"Enter a Threshold value: \"))\n",
    "#is the closing price greater than the threshold?\n",
    "above_threshold = closing_prices > threshold\n",
    "\n",
    "num_above_threshold = np.sum(above_threshold)\n",
    "total_stocks = len(closing_prices)\n",
    "\n",
    "# Calculate the proportion\n",
    "proportion_above_threshold = num_above_threshold / total_stocks\n",
    "\n",
    "# Output the result\n",
    "print(f\"Proportion of stocks with closing price above {threshold}: {proportion_above_threshold:.2f}\")"
   ]
  },
  {
   "cell_type": "code",
   "execution_count": null,
   "id": "7e2f143f",
   "metadata": {},
   "outputs": [],
   "source": []
  }
 ],
 "metadata": {
  "kernelspec": {
   "display_name": "Python 3 (ipykernel)",
   "language": "python",
   "name": "python3"
  },
  "language_info": {
   "codemirror_mode": {
    "name": "ipython",
    "version": 3
   },
   "file_extension": ".py",
   "mimetype": "text/x-python",
   "name": "python",
   "nbconvert_exporter": "python",
   "pygments_lexer": "ipython3",
   "version": "3.7.0"
  }
 },
 "nbformat": 4,
 "nbformat_minor": 5
}
